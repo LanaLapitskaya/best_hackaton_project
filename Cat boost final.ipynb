{
 "cells": [
  {
   "cell_type": "code",
   "execution_count": 1,
   "metadata": {},
   "outputs": [],
   "source": [
    "import catboost\n",
    "import pandas as pd\n",
    "import numpy as np\n",
    "from sklearn.model_selection import train_test_split, GridSearchCV, cross_val_score\n",
    "from sklearn.metrics import r2_score\n",
    "import matplotlib.pyplot as plt"
   ]
  },
  {
   "cell_type": "code",
   "execution_count": 2,
   "metadata": {},
   "outputs": [],
   "source": [
    "data = pd.read_csv('dataset/prep.csv')"
   ]
  },
  {
   "cell_type": "markdown",
   "metadata": {},
   "source": [
    "# Preprocessing"
   ]
  },
  {
   "cell_type": "markdown",
   "metadata": {},
   "source": [
    "### Change data to use CatBoost"
   ]
  },
  {
   "cell_type": "code",
   "execution_count": 3,
   "metadata": {},
   "outputs": [],
   "source": [
    "def replace_from_dict(dct, column):\n",
    "    return list(map(lambda x: dct.get(x) if x in dct else x, data[column]))"
   ]
  },
  {
   "cell_type": "markdown",
   "metadata": {},
   "source": [
    "#### Cuzov"
   ]
  },
  {
   "cell_type": "code",
   "execution_count": 4,
   "metadata": {},
   "outputs": [],
   "source": [
    "dict_cuzov = {'седан':'sedan', \n",
    "               'хэтчбек':'hatchback',\n",
    "               'внедорожник':'SUV',\n",
    "               'универсал':'universal',\n",
    "               'минивэн':'minivan',\n",
    "               'лифтбек':'liftback',\n",
    "               'микроавтобус':'minibus',\n",
    "               'купе':'coupe',\n",
    "               'легковой':'passenger',\n",
    "               'пикап':'pickup',\n",
    "               'кабриолет':'cabriolet',\n",
    "               'другой':'other',\n",
    "               'лимузин':'limousine',\n",
    "               'родстер':'roadster'               \n",
    "}"
   ]
  },
  {
   "cell_type": "code",
   "execution_count": 5,
   "metadata": {},
   "outputs": [],
   "source": [
    "data.cuzov = replace_from_dict(dict_cuzov, 'cuzov')"
   ]
  },
  {
   "cell_type": "markdown",
   "metadata": {},
   "source": [
    "#### Fuel"
   ]
  },
  {
   "cell_type": "code",
   "execution_count": 6,
   "metadata": {},
   "outputs": [],
   "source": [
    "dict_fuel = {'бензин':'petrol', \n",
    "             'дизель':'diesel'               \n",
    "}"
   ]
  },
  {
   "cell_type": "code",
   "execution_count": 7,
   "metadata": {},
   "outputs": [],
   "source": [
    "data.fuel = replace_from_dict(dict_fuel, 'fuel')"
   ]
  },
  {
   "cell_type": "markdown",
   "metadata": {},
   "source": [
    "#### Brand"
   ]
  },
  {
   "cell_type": "code",
   "execution_count": 8,
   "metadata": {},
   "outputs": [],
   "source": [
    "dict_brand = {'ГАЗ':'GAZ', \n",
    "             'УАЗ':'UAZ',\n",
    "             'Москвич':'Moskvich', \n",
    "             'ЗАЗ':'ZAZ', \n",
    "             'Эксклюзив':'Exclusive',\n",
    "             'ЛуАЗ':'LuAZ'\n",
    "}"
   ]
  },
  {
   "cell_type": "code",
   "execution_count": 9,
   "metadata": {},
   "outputs": [],
   "source": [
    "data.brand = replace_from_dict(dict_brand, 'brand')"
   ]
  },
  {
   "cell_type": "markdown",
   "metadata": {},
   "source": [
    "#### Region"
   ]
  },
  {
   "cell_type": "code",
   "execution_count": 10,
   "metadata": {},
   "outputs": [],
   "source": [
    "dict_region = {'Минск':'Minsk', \n",
    "               'Брестская обл.':'Brest reg.',\n",
    "               'Гродненская обл.':'Grodno reg.', \n",
    "               'Гомельская обл.':'Gomel reg.', \n",
    "               'Могилевская обл.':'Mogilev reg.',\n",
    "               'Витебская обл.':'Vitebsk reg.',\n",
    "               'Минская обл.':'Minsk reg.'\n",
    "}"
   ]
  },
  {
   "cell_type": "code",
   "execution_count": 11,
   "metadata": {},
   "outputs": [],
   "source": [
    "data.region = replace_from_dict(dict_region, 'region')"
   ]
  },
  {
   "cell_type": "markdown",
   "metadata": {},
   "source": [
    "#### Model - drop"
   ]
  },
  {
   "cell_type": "code",
   "execution_count": 12,
   "metadata": {},
   "outputs": [],
   "source": [
    "data.drop('model', axis=1, inplace=True)"
   ]
  },
  {
   "cell_type": "markdown",
   "metadata": {},
   "source": [
    "#### Color"
   ]
  },
  {
   "cell_type": "code",
   "execution_count": 13,
   "metadata": {},
   "outputs": [
    {
     "data": {
      "text/plain": [
       "array(['черный', 'серебристый', 'зеленый', 'фиолетовый', 'синий',\n",
       "       'бордовый', 'серый', 'белый', 'другой', 'красный', 'коричневый',\n",
       "       'оранжевый', 'желтый'], dtype=object)"
      ]
     },
     "execution_count": 13,
     "metadata": {},
     "output_type": "execute_result"
    }
   ],
   "source": [
    "data.color.unique()"
   ]
  },
  {
   "cell_type": "code",
   "execution_count": 14,
   "metadata": {},
   "outputs": [],
   "source": [
    "russian_colors = ['черный', 'серебристый', 'зеленый', 'фиолетовый', 'синий',\n",
    "                  'бордовый', 'серый', 'белый', 'другой', 'красный', \n",
    "                  'коричневый', 'оранжевый', 'желтый']\n",
    "english_colors = ['black', 'silver', 'green', 'purple', 'blue',\n",
    "                  'burgundy', 'gray', 'white', 'other', 'red',\n",
    "                  'brown', 'orange', 'yellow']\n",
    "dict_colors = dict(zip(russian_colors, english_colors))"
   ]
  },
  {
   "cell_type": "code",
   "execution_count": 15,
   "metadata": {},
   "outputs": [],
   "source": [
    "data.color = replace_from_dict(dict_colors, 'color')"
   ]
  },
  {
   "cell_type": "markdown",
   "metadata": {},
   "source": [
    "#### Drive Unit"
   ]
  },
  {
   "cell_type": "code",
   "execution_count": 16,
   "metadata": {},
   "outputs": [],
   "source": [
    "dict_drive_unit = {'Передний':'front-wheel', \n",
    "                   'Постоянный полный':'all-wheel', \n",
    "                   'Задний':'rear', \n",
    "                   'Подключаемый полный':'four-wheel'               \n",
    "}"
   ]
  },
  {
   "cell_type": "code",
   "execution_count": 17,
   "metadata": {},
   "outputs": [],
   "source": [
    "data['drive-unit'] = replace_from_dict(dict_drive_unit, 'drive-unit')"
   ]
  },
  {
   "cell_type": "code",
   "execution_count": 18,
   "metadata": {},
   "outputs": [],
   "source": [
    "data['drive-unit'].fillna('Unknown', inplace=True)"
   ]
  },
  {
   "cell_type": "markdown",
   "metadata": {},
   "source": [
    "#### State"
   ]
  },
  {
   "cell_type": "code",
   "execution_count": 19,
   "metadata": {},
   "outputs": [],
   "source": [
    "dict_state = {'с пробегом':'with mileage', \n",
    "              'с повреждениями':'with damage', \n",
    "              'на запчасти':'for parts'               \n",
    "}"
   ]
  },
  {
   "cell_type": "code",
   "execution_count": 20,
   "metadata": {},
   "outputs": [],
   "source": [
    "data.state = replace_from_dict(dict_state, 'state')"
   ]
  },
  {
   "cell_type": "markdown",
   "metadata": {},
   "source": [
    "#### Transmission"
   ]
  },
  {
   "cell_type": "code",
   "execution_count": 21,
   "metadata": {},
   "outputs": [],
   "source": [
    "dict_transmission = {'Автомат':'automatic', \n",
    "                     'Механика':'mechanical'               \n",
    "}"
   ]
  },
  {
   "cell_type": "code",
   "execution_count": 22,
   "metadata": {},
   "outputs": [],
   "source": [
    "data.transmission = replace_from_dict(dict_transmission, 'transmission')"
   ]
  },
  {
   "cell_type": "markdown",
   "metadata": {},
   "source": [
    "#### Drop views"
   ]
  },
  {
   "cell_type": "code",
   "execution_count": 23,
   "metadata": {},
   "outputs": [],
   "source": [
    "data.drop(['all_views', 'today_views', 'up', 'days_ago'], axis=1, inplace=True)"
   ]
  },
  {
   "cell_type": "code",
   "execution_count": 24,
   "metadata": {},
   "outputs": [],
   "source": [
    "data.drop('modified', axis=1, inplace=True)"
   ]
  },
  {
   "cell_type": "code",
   "execution_count": 25,
   "metadata": {},
   "outputs": [],
   "source": [
    "data.cost = data.cost.str.replace(' ', '').astype('int32')"
   ]
  },
  {
   "cell_type": "code",
   "execution_count": null,
   "metadata": {},
   "outputs": [],
   "source": []
  },
  {
   "cell_type": "markdown",
   "metadata": {},
   "source": [
    "# Train Test Split"
   ]
  },
  {
   "cell_type": "code",
   "execution_count": 28,
   "metadata": {},
   "outputs": [],
   "source": [
    "X_train, X_test, y_train, y_test = train_test_split(data.drop('cost', axis=1), \n",
    "                                                    data.cost, random_state=42,\n",
    "                                                    test_size=0.2)"
   ]
  },
  {
   "cell_type": "markdown",
   "metadata": {},
   "source": [
    "# Remove Outliers"
   ]
  },
  {
   "cell_type": "code",
   "execution_count": null,
   "metadata": {},
   "outputs": [],
   "source": []
  }
 ],
 "metadata": {
  "kernelspec": {
   "display_name": "Python 3",
   "language": "python",
   "name": "python3"
  },
  "language_info": {
   "codemirror_mode": {
    "name": "ipython",
    "version": 3
   },
   "file_extension": ".py",
   "mimetype": "text/x-python",
   "name": "python",
   "nbconvert_exporter": "python",
   "pygments_lexer": "ipython3",
   "version": "3.6.5"
  }
 },
 "nbformat": 4,
 "nbformat_minor": 2
}
