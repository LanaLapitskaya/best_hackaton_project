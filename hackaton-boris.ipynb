{
 "cells": [
  {
   "cell_type": "code",
   "execution_count": 250,
   "metadata": {},
   "outputs": [],
   "source": [
    "import re\n",
    "import numpy as np\n",
    "import pandas as pd"
   ]
  },
  {
   "cell_type": "code",
   "execution_count": 251,
   "metadata": {},
   "outputs": [],
   "source": [
    "df = pd.read_csv('avto4.csv')"
   ]
  },
  {
   "cell_type": "code",
   "execution_count": 252,
   "metadata": {},
   "outputs": [],
   "source": [
    "df.drop(['web-scraper-order', 'web-scraper-start-url', 'pages-href'], axis=1, inplace=True)"
   ]
  },
  {
   "cell_type": "code",
   "execution_count": 253,
   "metadata": {},
   "outputs": [],
   "source": [
    "df['cost'] = df['cost'].str.replace(' ', '').astype('int')\n",
    "\n",
    "df['volume'] = df['volume'].str.replace(' см3', '').astype('int')\n",
    "\n",
    "df['run'] = df['run'].str.replace(' км', '')\n",
    "miles_mask = df['run'].str.endswith(' миль')\n",
    "df.loc[miles_mask, 'run'] = df[miles_mask]['run'].str.replace(' миль', '').astype('int') * 1.60934\n",
    "df['run'] = df['run'].astype('int')\n",
    "\n",
    "df['today_views'] = df['show'].str.extract('\\+(.+) ')\n",
    "\n",
    "df['show'] = df['show'].str.extract('(.*)' + ' '*25)\n",
    "df.rename(columns={'show': 'all_views'}, inplace=True)\n",
    "\n",
    "today_view_mask = pd.isna(df['today_views'])\n",
    "df.loc[today_view_mask, 'today_views'] = df[today_view_mask]['all_views']"
   ]
  },
  {
   "cell_type": "code",
   "execution_count": 254,
   "metadata": {},
   "outputs": [
    {
     "data": {
      "text/html": [
       "<div>\n",
       "<style scoped>\n",
       "    .dataframe tbody tr th:only-of-type {\n",
       "        vertical-align: middle;\n",
       "    }\n",
       "\n",
       "    .dataframe tbody tr th {\n",
       "        vertical-align: top;\n",
       "    }\n",
       "\n",
       "    .dataframe thead th {\n",
       "        text-align: right;\n",
       "    }\n",
       "</style>\n",
       "<table border=\"1\" class=\"dataframe\">\n",
       "  <thead>\n",
       "    <tr style=\"text-align: right;\">\n",
       "      <th></th>\n",
       "      <th>pages</th>\n",
       "      <th>name</th>\n",
       "      <th>year</th>\n",
       "      <th>cost</th>\n",
       "      <th>state</th>\n",
       "      <th>run</th>\n",
       "      <th>fuel</th>\n",
       "      <th>color</th>\n",
       "      <th>volume</th>\n",
       "      <th>cuzov</th>\n",
       "      <th>transmission</th>\n",
       "      <th>drive-unit</th>\n",
       "      <th>region</th>\n",
       "      <th>update</th>\n",
       "      <th>all_views</th>\n",
       "      <th>table</th>\n",
       "      <th>today_views</th>\n",
       "    </tr>\n",
       "  </thead>\n",
       "  <tbody>\n",
       "    <tr>\n",
       "      <td>0</td>\n",
       "      <td>BMW 7 серия E38 M67d4.0</td>\n",
       "      <td>BMW 7 серия E38 M67d4.0, 2000</td>\n",
       "      <td>2000</td>\n",
       "      <td>5200</td>\n",
       "      <td>с пробегом</td>\n",
       "      <td>280000</td>\n",
       "      <td>дизель</td>\n",
       "      <td>серый</td>\n",
       "      <td>4000</td>\n",
       "      <td>седан</td>\n",
       "      <td>Автомат</td>\n",
       "      <td>Задний</td>\n",
       "      <td>Барановичи, Брестская обл.</td>\n",
       "      <td>Опубликовано\\n                            \\n  ...</td>\n",
       "      <td>833</td>\n",
       "      <td>Дополнительные опции:\\n                       ...</td>\n",
       "      <td>43</td>\n",
       "    </tr>\n",
       "  </tbody>\n",
       "</table>\n",
       "</div>"
      ],
      "text/plain": [
       "                     pages                           name  year  cost  \\\n",
       "0  BMW 7 серия E38 M67d4.0  BMW 7 серия E38 M67d4.0, 2000  2000  5200   \n",
       "\n",
       "        state     run    fuel  color  volume  cuzov transmission drive-unit  \\\n",
       "0  с пробегом  280000  дизель  серый    4000  седан      Автомат     Задний   \n",
       "\n",
       "                       region  \\\n",
       "0  Барановичи, Брестская обл.   \n",
       "\n",
       "                                              update all_views  \\\n",
       "0  Опубликовано\\n                            \\n  ...       833   \n",
       "\n",
       "                                               table today_views  \n",
       "0  Дополнительные опции:\\n                       ...          43  "
      ]
     },
     "execution_count": 254,
     "metadata": {},
     "output_type": "execute_result"
    }
   ],
   "source": [
    "df.head(1)"
   ]
  },
  {
   "cell_type": "code",
   "execution_count": null,
   "metadata": {},
   "outputs": [],
   "source": [
    "df[]"
   ]
  }
 ],
 "metadata": {
  "kernelspec": {
   "display_name": "Python 3",
   "language": "python",
   "name": "python3"
  },
  "language_info": {
   "codemirror_mode": {
    "name": "ipython",
    "version": 3
   },
   "file_extension": ".py",
   "mimetype": "text/x-python",
   "name": "python",
   "nbconvert_exporter": "python",
   "pygments_lexer": "ipython3",
   "version": "3.7.3"
  }
 },
 "nbformat": 4,
 "nbformat_minor": 4
}
